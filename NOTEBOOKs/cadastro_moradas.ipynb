{
 "cells": [
  {
   "cell_type": "code",
   "execution_count": 2,
   "metadata": {
    "scrolled": true
   },
   "outputs": [
    {
     "name": "stdout",
     "output_type": "stream",
     "text": [
      "Collecting package metadata (current_repodata.json): done\n",
      "Solving environment: / \n",
      "The environment is inconsistent, please check the package plan carefully\n",
      "The following packages are causing the inconsistency:\n",
      "\n",
      "  - defaults/noarch::nbclassic==0.2.6=pyhd3eb1b0_0\n",
      "  - defaults/linux-64::notebook==6.3.0=py37h06a4308_0\n",
      "  - defaults/noarch::jupyterlab==3.0.14=pyhd3eb1b0_1\n",
      "  - defaults/linux-64::ipykernel==5.3.4=py37h5ca1d4c_0\n",
      "done\n",
      "\n",
      "## Package Plan ##\n",
      "\n",
      "  environment location: /home/hugo.santos/miniconda3\n",
      "\n",
      "  added / updated specs:\n",
      "    - pandas\n",
      "\n",
      "\n",
      "The following packages will be downloaded:\n",
      "\n",
      "    package                    |            build\n",
      "    ---------------------------|-----------------\n",
      "    bottleneck-1.3.2           |   py37heb32a55_1         125 KB\n",
      "    ca-certificates-2021.7.5   |       h06a4308_1         113 KB\n",
      "    certifi-2021.5.30          |   py37h06a4308_0         139 KB\n",
      "    conda-4.10.3               |   py37h06a4308_0         2.9 MB\n",
      "    ipython-7.26.0             |   py37hb070fc8_0        1005 KB\n",
      "    matplotlib-inline-0.1.2    |     pyhd3eb1b0_2          12 KB\n",
      "    numexpr-2.7.3              |   py37h22e1b3c_1         188 KB\n",
      "    pandas-1.3.1               |   py37h8c16a72_0         9.3 MB\n",
      "    ------------------------------------------------------------\n",
      "                                           Total:        13.7 MB\n",
      "\n",
      "The following NEW packages will be INSTALLED:\n",
      "\n",
      "  bottleneck         pkgs/main/linux-64::bottleneck-1.3.2-py37heb32a55_1\n",
      "  ipython            pkgs/main/linux-64::ipython-7.26.0-py37hb070fc8_0\n",
      "  matplotlib-inline  pkgs/main/noarch::matplotlib-inline-0.1.2-pyhd3eb1b0_2\n",
      "  numexpr            pkgs/main/linux-64::numexpr-2.7.3-py37h22e1b3c_1\n",
      "\n",
      "The following packages will be UPDATED:\n",
      "\n",
      "  ca-certificates                      2021.4.13-h06a4308_1 --> 2021.7.5-h06a4308_1\n",
      "  certifi                          2020.12.5-py37h06a4308_0 --> 2021.5.30-py37h06a4308_0\n",
      "  conda                               4.10.1-py37h06a4308_1 --> 4.10.3-py37h06a4308_0\n",
      "  pandas                               1.2.4-py37h2531618_0 --> 1.3.1-py37h8c16a72_0\n",
      "\n",
      "\n",
      "\n",
      "Downloading and Extracting Packages\n",
      "certifi-2021.5.30    | 139 KB    | ##################################### | 100% \n",
      "conda-4.10.3         | 2.9 MB    | ##################################### | 100% \n",
      "bottleneck-1.3.2     | 125 KB    | ##################################### | 100% \n",
      "pandas-1.3.1         | 9.3 MB    | ##################################### | 100% \n",
      "ca-certificates-2021 | 113 KB    | ##################################### | 100% \n",
      "matplotlib-inline-0. | 12 KB     | ##################################### | 100% \n",
      "numexpr-2.7.3        | 188 KB    | ##################################### | 100% \n",
      "ipython-7.26.0       | 1005 KB   | ##################################### | 100% \n",
      "Preparing transaction: done\n",
      "Verifying transaction: done\n",
      "Executing transaction: done\n",
      "Collecting package metadata (current_repodata.json): done\n",
      "Solving environment: done\n",
      "\n",
      "# All requested packages already installed.\n",
      "\n",
      "Collecting package metadata (current_repodata.json): done\n",
      "Solving environment: done\n",
      "\n",
      "# All requested packages already installed.\n",
      "\n"
     ]
    }
   ],
   "source": [
    "!conda install --yes pandas\n",
    "!conda install --yes numpy\n",
    "!conda install --yes xlrd\n"
   ]
  },
  {
   "cell_type": "code",
   "execution_count": 20,
   "metadata": {},
   "outputs": [],
   "source": [
    "import pandas as pd\n",
    "import numpy as np"
   ]
  },
  {
   "cell_type": "code",
   "execution_count": 21,
   "metadata": {},
   "outputs": [
    {
     "name": "stdout",
     "output_type": "stream",
     "text": [
      "141401-U.xlsx  141405-U.xlsx  141411-U.xlsx  141417-U.xlsx\n",
      "141402-U.xlsx  141408-U.xlsx  141415-U.xlsx  141418-U.xlsx\n",
      "141403-U.xlsx  141410-U.xlsx  141416-U.xlsx\n"
     ]
    }
   ],
   "source": [
    "!ls *.xlsx"
   ]
  },
  {
   "cell_type": "code",
   "execution_count": 22,
   "metadata": {
    "scrolled": true
   },
   "outputs": [
    {
     "data": {
      "text/plain": [
       "['141401-U.xlsx',\n",
       " '141402-U.xlsx',\n",
       " '141403-U.xlsx',\n",
       " '141405-U.xlsx',\n",
       " '141408-U.xlsx',\n",
       " '141410-U.xlsx',\n",
       " '141411-U.xlsx',\n",
       " '141415-U.xlsx',\n",
       " '141416-U.xlsx',\n",
       " '141417-U.xlsx',\n",
       " '141418-U.xlsx']"
      ]
     },
     "execution_count": 22,
     "metadata": {},
     "output_type": "execute_result"
    }
   ],
   "source": [
    "import glob\n",
    "glob.glob(\"*.xlsx\")"
   ]
  },
  {
   "cell_type": "code",
   "execution_count": 23,
   "metadata": {},
   "outputs": [
    {
     "name": "stderr",
     "output_type": "stream",
     "text": [
      "/home/hugo.santos/miniconda3/lib/python3.7/site-packages/openpyxl/styles/stylesheet.py:221: UserWarning: Workbook contains no default style, apply openpyxl's default\n",
      "  warn(\"Workbook contains no default style, apply openpyxl's default\")\n"
     ]
    }
   ],
   "source": [
    "all_data = pd.DataFrame()\n",
    "for f in glob.glob(\"*.xlsx\"):\n",
    "    df = pd.read_excel(f, skiprows=3, usecols=\"A:k\")\n",
    "    df.columns = map(str.lower, df.columns)\n",
    "    all_data = all_data.append(df,ignore_index=True)"
   ]
  },
  {
   "cell_type": "code",
   "execution_count": 24,
   "metadata": {},
   "outputs": [
    {
     "data": {
      "text/html": [
       "<div>\n",
       "<style scoped>\n",
       "    .dataframe tbody tr th:only-of-type {\n",
       "        vertical-align: middle;\n",
       "    }\n",
       "\n",
       "    .dataframe tbody tr th {\n",
       "        vertical-align: top;\n",
       "    }\n",
       "\n",
       "    .dataframe thead th {\n",
       "        text-align: right;\n",
       "    }\n",
       "</style>\n",
       "<table border=\"1\" class=\"dataframe\">\n",
       "  <thead>\n",
       "    <tr style=\"text-align: right;\">\n",
       "      <th></th>\n",
       "      <th>rua</th>\n",
       "      <th>número</th>\n",
       "      <th>freguesia</th>\n",
       "      <th>código postal</th>\n",
       "      <th>freguesia.1</th>\n",
       "      <th>tipo de prédio</th>\n",
       "      <th>artigo</th>\n",
       "      <th>fracção</th>\n",
       "      <th>área</th>\n",
       "      <th>x</th>\n",
       "      <th>y</th>\n",
       "    </tr>\n",
       "  </thead>\n",
       "  <tbody>\n",
       "    <tr>\n",
       "      <th>0</th>\n",
       "      <td>-</td>\n",
       "      <td>Nº 1</td>\n",
       "      <td>Chourinhos - Casais Monizes - Alcobertas</td>\n",
       "      <td>2040-015</td>\n",
       "      <td>141401</td>\n",
       "      <td>U</td>\n",
       "      <td>1472</td>\n",
       "      <td>-</td>\n",
       "      <td>386,5800 m²</td>\n",
       "      <td>134.064,00</td>\n",
       "      <td>275.811,00</td>\n",
       "    </tr>\n",
       "    <tr>\n",
       "      <th>1</th>\n",
       "      <td>-</td>\n",
       "      <td>-</td>\n",
       "      <td>Teira</td>\n",
       "      <td>2040-024</td>\n",
       "      <td>141401</td>\n",
       "      <td>U</td>\n",
       "      <td>892</td>\n",
       "      <td>ADEG (ADEG)</td>\n",
       "      <td>25,0000 m²</td>\n",
       "      <td>131.344,00</td>\n",
       "      <td>269.449,00</td>\n",
       "    </tr>\n",
       "    <tr>\n",
       "      <th>2</th>\n",
       "      <td>-</td>\n",
       "      <td>-</td>\n",
       "      <td>Chãos</td>\n",
       "      <td>2040-018</td>\n",
       "      <td>141401</td>\n",
       "      <td>U</td>\n",
       "      <td>1654</td>\n",
       "      <td>ADMI (ADMI)</td>\n",
       "      <td>146,5800 m²</td>\n",
       "      <td>132.252,00</td>\n",
       "      <td>272.451,00</td>\n",
       "    </tr>\n",
       "    <tr>\n",
       "      <th>3</th>\n",
       "      <td>-</td>\n",
       "      <td>-</td>\n",
       "      <td>Serradinha ou Junqueira - Portela de Teira - A...</td>\n",
       "      <td>2040-020</td>\n",
       "      <td>141401</td>\n",
       "      <td>U</td>\n",
       "      <td>1417</td>\n",
       "      <td>ARRE (ARRE)</td>\n",
       "      <td>112,2000 m²</td>\n",
       "      <td>132.170,00</td>\n",
       "      <td>271.010,00</td>\n",
       "    </tr>\n",
       "    <tr>\n",
       "      <th>4</th>\n",
       "      <td>-</td>\n",
       "      <td>-</td>\n",
       "      <td>Sourões</td>\n",
       "      <td>2040-023</td>\n",
       "      <td>141401</td>\n",
       "      <td>U</td>\n",
       "      <td>307</td>\n",
       "      <td>ARRE (ARRE)</td>\n",
       "      <td>40,0000 m²</td>\n",
       "      <td>135.419,00</td>\n",
       "      <td>273.703,00</td>\n",
       "    </tr>\n",
       "  </tbody>\n",
       "</table>\n",
       "</div>"
      ],
      "text/plain": [
       "  rua número                                          freguesia código postal  \\\n",
       "0   -   Nº 1           Chourinhos - Casais Monizes - Alcobertas     2040-015    \n",
       "1   -      -                                              Teira     2040-024    \n",
       "2   -      -                                              Chãos     2040-018    \n",
       "3   -      -  Serradinha ou Junqueira - Portela de Teira - A...     2040-020    \n",
       "4   -      -                                            Sourões     2040-023    \n",
       "\n",
       "   freguesia.1 tipo de prédio  artigo      fracção         área           x  \\\n",
       "0       141401              U    1472            -  386,5800 m²  134.064,00   \n",
       "1       141401              U     892  ADEG (ADEG)   25,0000 m²  131.344,00   \n",
       "2       141401              U    1654  ADMI (ADMI)  146,5800 m²  132.252,00   \n",
       "3       141401              U    1417  ARRE (ARRE)  112,2000 m²  132.170,00   \n",
       "4       141401              U     307  ARRE (ARRE)   40,0000 m²  135.419,00   \n",
       "\n",
       "            y  \n",
       "0  275.811,00  \n",
       "1  269.449,00  \n",
       "2  272.451,00  \n",
       "3  271.010,00  \n",
       "4  273.703,00  "
      ]
     },
     "execution_count": 24,
     "metadata": {},
     "output_type": "execute_result"
    }
   ],
   "source": [
    "all_data.head()"
   ]
  },
  {
   "cell_type": "code",
   "execution_count": 25,
   "metadata": {},
   "outputs": [],
   "source": [
    "all_data['ano_ref'] = '2021'"
   ]
  },
  {
   "cell_type": "code",
   "execution_count": 26,
   "metadata": {},
   "outputs": [],
   "source": [
    "all_data.to_csv('localizacao_cadastro.csv', encoding='utf-8')"
   ]
  },
  {
   "cell_type": "code",
   "execution_count": 43,
   "metadata": {},
   "outputs": [
    {
     "name": "stdout",
     "output_type": "stream",
     "text": [
      "Linhas:  51366\n",
      "Colunas:  18\n"
     ]
    }
   ],
   "source": [
    "rows = len(all_data.axes[0]) \n",
    "cols = len(all_data.axes[1]) \n",
    "\n",
    "print(\"Linhas: \", rows) \n",
    "print(\"Colunas: \", cols) \n"
   ]
  }
 ],
 "metadata": {
  "kernelspec": {
   "display_name": "Python 3",
   "language": "python",
   "name": "python3"
  },
  "language_info": {
   "codemirror_mode": {
    "name": "ipython",
    "version": 3
   },
   "file_extension": ".py",
   "mimetype": "text/x-python",
   "name": "python",
   "nbconvert_exporter": "python",
   "pygments_lexer": "ipython3",
   "version": "3.7.6"
  }
 },
 "nbformat": 4,
 "nbformat_minor": 4
}
