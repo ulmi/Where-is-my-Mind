{
 "cells": [
  {
   "cell_type": "code",
   "execution_count": 28,
   "metadata": {
    "scrolled": true
   },
   "outputs": [
    {
     "name": "stdout",
     "output_type": "stream",
     "text": [
      "Collecting package metadata (current_repodata.json): done\n",
      "Solving environment: done\n",
      "\n",
      "# All requested packages already installed.\n",
      "\n",
      "Collecting package metadata (current_repodata.json): done\n",
      "Solving environment: done\n",
      "\n",
      "# All requested packages already installed.\n",
      "\n",
      "Collecting package metadata (current_repodata.json): done\n",
      "Solving environment: done\n",
      "\n",
      "## Package Plan ##\n",
      "\n",
      "  environment location: /home/ulmi/APPZ/miniconda3\n",
      "\n",
      "  added / updated specs:\n",
      "    - xlrd\n",
      "\n",
      "\n",
      "The following packages will be downloaded:\n",
      "\n",
      "    package                    |            build\n",
      "    ---------------------------|-----------------\n",
      "    xlrd-1.2.0                 |     pyh9f0ad1d_1         108 KB  conda-forge\n",
      "    ------------------------------------------------------------\n",
      "                                           Total:         108 KB\n",
      "\n",
      "The following NEW packages will be INSTALLED:\n",
      "\n",
      "  xlrd               conda-forge/noarch::xlrd-1.2.0-pyh9f0ad1d_1\n",
      "\n",
      "\n",
      "\n",
      "Downloading and Extracting Packages\n",
      "xlrd-1.2.0           | 108 KB    | ##################################### | 100% \n",
      "Preparing transaction: done\n",
      "Verifying transaction: done\n",
      "Executing transaction: done\n"
     ]
    }
   ],
   "source": [
    "!conda install --yes pandas\n",
    "!conda install --yes numpy\n",
    "!conda install --yes xlrd\n"
   ]
  },
  {
   "cell_type": "code",
   "execution_count": 35,
   "metadata": {},
   "outputs": [],
   "source": [
    "import pandas as pd\n",
    "import numpy as np"
   ]
  },
  {
   "cell_type": "code",
   "execution_count": 6,
   "metadata": {},
   "outputs": [
    {
     "name": "stdout",
     "output_type": "stream",
     "text": [
      "141401.xlsx  141405.xlsx  141409.xlsx  141414.xlsx  141417.xlsx\n",
      "141402.xlsx  141406.xlsx  141410.xlsx  141415.xlsx  141418.xlsx\n",
      "141403.xlsx  141408.xlsx  141411.xlsx  141416.xlsx\n",
      "\n",
      "../jupyter_test:\n",
      "141401.xlsx  141408.xlsx  141415.xlsx\t     1414-rio-maior.docx\n",
      "141402.xlsx  141409.xlsx  141416.xlsx\t     1st_clean_test.ipynb\n",
      "141403.xlsx  141410.xlsx  141417.xlsx\t     connect.py\n",
      "141405.xlsx  141411.xlsx  141418.xlsx\t     dbconn_config.json\n",
      "141406.xlsx  141414.xlsx  1414-CECATBR1.zip  processo.py\n"
     ]
    }
   ],
   "source": [
    "!ls ../jupyter_test *.xlsx"
   ]
  },
  {
   "cell_type": "code",
   "execution_count": 7,
   "metadata": {
    "scrolled": true
   },
   "outputs": [
    {
     "data": {
      "text/plain": [
       "['../jupyter_test/141403.xlsx',\n",
       " '../jupyter_test/141406.xlsx',\n",
       " '../jupyter_test/141410.xlsx',\n",
       " '../jupyter_test/141418.xlsx',\n",
       " '../jupyter_test/141414.xlsx',\n",
       " '../jupyter_test/141401.xlsx',\n",
       " '../jupyter_test/141411.xlsx',\n",
       " '../jupyter_test/141402.xlsx',\n",
       " '../jupyter_test/141417.xlsx',\n",
       " '../jupyter_test/141405.xlsx',\n",
       " '../jupyter_test/141415.xlsx',\n",
       " '../jupyter_test/141416.xlsx',\n",
       " '../jupyter_test/141408.xlsx',\n",
       " '../jupyter_test/141409.xlsx']"
      ]
     },
     "execution_count": 7,
     "metadata": {},
     "output_type": "execute_result"
    }
   ],
   "source": [
    "import glob\n",
    "glob.glob(\"../jupyter_test/*.xlsx\")"
   ]
  },
  {
   "cell_type": "code",
   "execution_count": 38,
   "metadata": {},
   "outputs": [],
   "source": [
    "all_data = pd.DataFrame()\n",
    "for f in glob.glob(\"../jupyter_test/*.xlsx\"):\n",
    "    df = pd.read_excel(f, skiprows=8)\n",
    "    df.columns = map(str.lower, df.columns)\n",
    "    all_data = all_data.append(df,ignore_index=True)\n",
    "    \n",
    "all_data.rename(columns={'unnamed: 0': 'predio', 'unnamed: 5': 'aval_imi', 'unnamed: 6': 'ano_inscr',\n",
    "                  'unnamed: 7': 'ano_vp','unnamed: 8': 'valor_patrimonial',\n",
    "                  'tipo de isenção\\np,e-permanente\\nt-temporária': 'tipo_isencao',\n",
    "                  'ano fim': 'ano_fim', 'valor isento':'valor_isento',\n",
    "                  'ano ant.':'ano_anterior','maj / min':'maj_min',\n",
    "                  'juros comp.':'juros_comp.'}, inplace=True)"
   ]
  },
  {
   "cell_type": "code",
   "execution_count": 45,
   "metadata": {},
   "outputs": [],
   "source": [
    "all_data['ano_ref'] = '2019'"
   ]
  },
  {
   "cell_type": "code",
   "execution_count": 46,
   "metadata": {},
   "outputs": [],
   "source": [
    "all_data.to_csv('file_name.csv', encoding='utf-8')"
   ]
  },
  {
   "cell_type": "code",
   "execution_count": 43,
   "metadata": {},
   "outputs": [
    {
     "name": "stdout",
     "output_type": "stream",
     "text": [
      "Linhas:  51366\n",
      "Colunas:  18\n"
     ]
    }
   ],
   "source": [
    "rows = len(all_data.axes[0]) \n",
    "cols = len(all_data.axes[1]) \n",
    "\n",
    "print(\"Linhas: \", rows) \n",
    "print(\"Colunas: \", cols) \n"
   ]
  }
 ],
 "metadata": {
  "kernelspec": {
   "display_name": "Python 3",
   "language": "python",
   "name": "python3"
  },
  "language_info": {
   "codemirror_mode": {
    "name": "ipython",
    "version": 3
   },
   "file_extension": ".py",
   "mimetype": "text/x-python",
   "name": "python",
   "nbconvert_exporter": "python",
   "pygments_lexer": "ipython3",
   "version": "3.7.6"
  }
 },
 "nbformat": 4,
 "nbformat_minor": 4
}
